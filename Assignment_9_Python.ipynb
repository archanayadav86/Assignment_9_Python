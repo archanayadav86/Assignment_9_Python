{
 "cells": [
  {
   "cell_type": "markdown",
   "metadata": {},
   "source": [
    "Q1. In Python 3.X, what are the names and functions of string object types?"
   ]
  },
  {
   "cell_type": "markdown",
   "metadata": {},
   "source": [
    "Ans--> str.isalnum()\tString consists of only alphanumeric characters (no symbols)\n",
    "str.isalpha()\tString consists of only alphabetic characters (no symbols)\n",
    "str.islower()\tString’s alphabetic characters are all lower case\n",
    "str.isnumeric()\tString consists of only numeric characters\n",
    "str.isspace()\tString consists of only whitespace characters\n",
    "str.istitle()\tString is in title case\n",
    "str.isupper()\tString’s alphabetic characters are all upper case\n",
    "Some more few functions are -- \n",
    "capitalize( ) function.\n",
    "lower( ) function.\n",
    "title( ) function.\n",
    "casefold( ) function.\n",
    "upper( ) function.\n",
    "count( ) function.\n",
    "find( ) function.\n",
    "replace( ) function."
   ]
  },
  {
   "cell_type": "markdown",
   "metadata": {},
   "source": [
    "Q2. How do the string forms in Python 3.X vary in terms of operations?"
   ]
  },
  {
   "cell_type": "markdown",
   "metadata": {},
   "source": [
    "Ans--> Various String Operators in Python\n",
    "Assignment operator: “=.”\n",
    "Concatenate operator: “+.”\n",
    "String repetition operator: “*.”\n",
    "String slicing operator: “[]”\n",
    "String comparison operator: “==” & “!= ”\n",
    "Membership operator: “in” & “not in”\n",
    "Escape sequence operator: “\\.”\n",
    "String formatting operator: “%” & “{}”"
   ]
  },
  {
   "cell_type": "markdown",
   "metadata": {},
   "source": [
    "Q3. In 3.X, how do you put non-ASCII Unicode characters in a string?"
   ]
  },
  {
   "cell_type": "markdown",
   "metadata": {},
   "source": [
    "Ans--> The one-character string can be created using the Chr(), which is a built-in function in python. It takes the argument as a single integer and returns the Unicode of the character given. There is another built-in function in python “ord()” that works like a Chr() function."
   ]
  },
  {
   "cell_type": "markdown",
   "metadata": {},
   "source": [
    "Q4. In Python 3.X, what are the key differences between text-mode and binary-mode files?"
   ]
  },
  {
   "cell_type": "markdown",
   "metadata": {},
   "source": [
    "Ans--> In Python, files can be opened in two modes: text mode and binary mode. Text mode is the default mode, and it is used for reading and writing text files, while the binary mode is used for reading and writing binary files. Text files are files that contain text data, such as strings or characters."
   ]
  },
  {
   "cell_type": "markdown",
   "metadata": {},
   "source": [
    "Q5. How can you interpret a Unicode text file containing text encoded in a different encoding than your platform's default?"
   ]
  },
  {
   "cell_type": "markdown",
   "metadata": {},
   "source": [
    "Ans--> Unicode uses two encoding forms: 8-bit and 16-bit, based on the data type of the data that is being that is being encoded. The default encoding form is 16-bit, where each character is 16 bits (2 bytes) wide. Sixteen-bit encoding form is usually shown as U+hhhh, where hhhh is the hexadecimal code point of the character."
   ]
  },
  {
   "cell_type": "markdown",
   "metadata": {},
   "source": [
    "Q6. What is the best way to make a Unicode text file in a particular encoding format?"
   ]
  },
  {
   "cell_type": "markdown",
   "metadata": {},
   "source": [
    "Ans-->We should either use normal open() and encode the unicode or use codecs. open() and not encode the data by ourself or To insert a Unicode character, type the character code, press ALT, and then press X."
   ]
  },
  {
   "cell_type": "markdown",
   "metadata": {},
   "source": [
    "Q7. What qualifies ASCII text as a form of Unicode text?"
   ]
  },
  {
   "cell_type": "markdown",
   "metadata": {},
   "source": [
    "Ans--> ASCII encodes symbols, digits, letters, etc. whereas Unicode encodes special texts from different languages, letters, symbols, etc. It can be said that ASCII is a subset of the Unicode encoding scheme."
   ]
  },
  {
   "cell_type": "markdown",
   "metadata": {},
   "source": [
    "Q8. How much of an effect does the change in string types in Python 3.X have on your code?"
   ]
  },
  {
   "cell_type": "markdown",
   "metadata": {},
   "source": [
    "Ans--> We can use the Python built-in method string. replace() to replace a string in python. We can also use loops to replace a character in a string in Python. String slicing method can also be used to replace a string in python."
   ]
  }
 ],
 "metadata": {
  "kernelspec": {
   "display_name": "Python 3",
   "language": "python",
   "name": "python3"
  },
  "language_info": {
   "codemirror_mode": {
    "name": "ipython",
    "version": 3
   },
   "file_extension": ".py",
   "mimetype": "text/x-python",
   "name": "python",
   "nbconvert_exporter": "python",
   "pygments_lexer": "ipython3",
   "version": "3.7.6"
  }
 },
 "nbformat": 4,
 "nbformat_minor": 4
}
